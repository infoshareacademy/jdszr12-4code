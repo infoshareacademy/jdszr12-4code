{
 "cells": [
  {
   "cell_type": "markdown",
   "metadata": {},
   "source": [
    "**Table of contents**<a id='toc0_'></a>    \n",
    "- [4CODE - Projekt Python - Spotify](#toc1_)    \n",
    "  - [Sprawdzenie danych](#toc1_1_)    \n",
    "  - [Optymalizacja danych](#toc1_2_)    \n",
    "  - [Analiza danych](#toc1_3_)    \n",
    "    - [Analiza całej bazy](#toc1_3_1_)    \n",
    "      - [Artyści](#toc1_3_1_1_)    \n",
    "      - [Utwory](#toc1_3_1_2_)    \n",
    "    - [Analiza listy Global](#toc1_3_2_)    \n",
    "      - [Artyści](#toc1_3_2_1_)    \n",
    "      - [Utwory](#toc1_3_2_2_)    \n",
    "    - [Analiza Polska](#toc1_3_3_)    \n",
    "      - [Artyści](#toc1_3_3_1_)    \n",
    "      - [Utwory](#toc1_3_3_2_)    \n",
    "\n",
    "<!-- vscode-jupyter-toc-config\n",
    "\tnumbering=false\n",
    "\tanchor=true\n",
    "\tflat=false\n",
    "\tminLevel=1\n",
    "\tmaxLevel=6\n",
    "\t/vscode-jupyter-toc-config -->\n",
    "<!-- THIS CELL WILL BE REPLACED ON TOC UPDATE. DO NOT WRITE YOUR TEXT IN THIS CELL -->"
   ]
  },
  {
   "cell_type": "markdown",
   "metadata": {},
   "source": [
    "# <a id='toc1_'></a>[4CODE - Projekt Python - Spotify](#toc0_)"
   ]
  },
  {
   "cell_type": "code",
   "execution_count": 1,
   "metadata": {},
   "outputs": [],
   "source": [
    "import pandas as pd\n",
    "import numpy as np\n",
    "import matplotlib.pyplot as plt\n",
    "import seaborn as sns"
   ]
  },
  {
   "cell_type": "code",
   "execution_count": 2,
   "metadata": {},
   "outputs": [],
   "source": [
    "# Wczytanie danych\n",
    "spotify = pd.read_csv(\"Database to calculate popularity.csv\", index_col='Unnamed: 0')"
   ]
  },
  {
   "cell_type": "markdown",
   "metadata": {},
   "source": [
    "## <a id='toc1_1_'></a>[Sprawdzenie danych](#toc0_)"
   ]
  },
  {
   "cell_type": "code",
   "execution_count": 19,
   "metadata": {},
   "outputs": [
    {
     "data": {
      "text/html": [
       "<div>\n",
       "<style scoped>\n",
       "    .dataframe tbody tr th:only-of-type {\n",
       "        vertical-align: middle;\n",
       "    }\n",
       "\n",
       "    .dataframe tbody tr th {\n",
       "        vertical-align: top;\n",
       "    }\n",
       "\n",
       "    .dataframe thead th {\n",
       "        text-align: right;\n",
       "    }\n",
       "</style>\n",
       "<table border=\"1\" class=\"dataframe\">\n",
       "  <thead>\n",
       "    <tr style=\"text-align: right;\">\n",
       "      <th></th>\n",
       "      <th>country</th>\n",
       "      <th>position</th>\n",
       "      <th>track</th>\n",
       "      <th>title</th>\n",
       "      <th>artist</th>\n",
       "      <th>year</th>\n",
       "      <th>month</th>\n",
       "      <th>day</th>\n",
       "    </tr>\n",
       "  </thead>\n",
       "  <tbody>\n",
       "    <tr>\n",
       "      <th>0</th>\n",
       "      <td>Global</td>\n",
       "      <td>1</td>\n",
       "      <td>Dakiti , Bad Bunny, Jhay Cortez</td>\n",
       "      <td>Dakiti</td>\n",
       "      <td>Bad Bunny, Jhay Cortez</td>\n",
       "      <td>2020</td>\n",
       "      <td>5</td>\n",
       "      <td>11</td>\n",
       "    </tr>\n",
       "    <tr>\n",
       "      <th>1</th>\n",
       "      <td>Global</td>\n",
       "      <td>2</td>\n",
       "      <td>positions , Ariana Grande</td>\n",
       "      <td>positions</td>\n",
       "      <td>Ariana Grande</td>\n",
       "      <td>2020</td>\n",
       "      <td>5</td>\n",
       "      <td>11</td>\n",
       "    </tr>\n",
       "    <tr>\n",
       "      <th>2</th>\n",
       "      <td>Global</td>\n",
       "      <td>3</td>\n",
       "      <td>Mood  , 24kGoldn</td>\n",
       "      <td>Mood</td>\n",
       "      <td>24kGoldn</td>\n",
       "      <td>2020</td>\n",
       "      <td>5</td>\n",
       "      <td>11</td>\n",
       "    </tr>\n",
       "    <tr>\n",
       "      <th>3</th>\n",
       "      <td>Global</td>\n",
       "      <td>4</td>\n",
       "      <td>Lemonade  , Internet Money</td>\n",
       "      <td>Lemonade</td>\n",
       "      <td>Internet Money</td>\n",
       "      <td>2020</td>\n",
       "      <td>5</td>\n",
       "      <td>11</td>\n",
       "    </tr>\n",
       "    <tr>\n",
       "      <th>4</th>\n",
       "      <td>Global</td>\n",
       "      <td>5</td>\n",
       "      <td>Lonely  , Justin Bieber</td>\n",
       "      <td>Lonely</td>\n",
       "      <td>Justin Bieber</td>\n",
       "      <td>2020</td>\n",
       "      <td>5</td>\n",
       "      <td>11</td>\n",
       "    </tr>\n",
       "  </tbody>\n",
       "</table>\n",
       "</div>"
      ],
      "text/plain": [
       "  country  position                              track        title  \\\n",
       "0  Global         1   Dakiti , Bad Bunny, Jhay Cortez       Dakiti    \n",
       "1  Global         2         positions , Ariana Grande    positions    \n",
       "2  Global         3                  Mood  , 24kGoldn        Mood     \n",
       "3  Global         4        Lemonade  , Internet Money    Lemonade     \n",
       "4  Global         5           Lonely  , Justin Bieber      Lonely     \n",
       "\n",
       "                     artist  year  month  day  \n",
       "0   Bad Bunny, Jhay Cortez   2020      5   11  \n",
       "1            Ariana Grande   2020      5   11  \n",
       "2                 24kGoldn   2020      5   11  \n",
       "3           Internet Money   2020      5   11  \n",
       "4            Justin Bieber   2020      5   11  "
      ]
     },
     "execution_count": 19,
     "metadata": {},
     "output_type": "execute_result"
    }
   ],
   "source": [
    "# Wyświetlenie pierwszych 5 wierszy danych\n",
    "spotify.head()"
   ]
  },
  {
   "cell_type": "code",
   "execution_count": 20,
   "metadata": {},
   "outputs": [
    {
     "data": {
      "text/html": [
       "<div>\n",
       "<style scoped>\n",
       "    .dataframe tbody tr th:only-of-type {\n",
       "        vertical-align: middle;\n",
       "    }\n",
       "\n",
       "    .dataframe tbody tr th {\n",
       "        vertical-align: top;\n",
       "    }\n",
       "\n",
       "    .dataframe thead th {\n",
       "        text-align: right;\n",
       "    }\n",
       "</style>\n",
       "<table border=\"1\" class=\"dataframe\">\n",
       "  <thead>\n",
       "    <tr style=\"text-align: right;\">\n",
       "      <th></th>\n",
       "      <th>country</th>\n",
       "      <th>position</th>\n",
       "      <th>track</th>\n",
       "      <th>title</th>\n",
       "      <th>artist</th>\n",
       "      <th>year</th>\n",
       "      <th>month</th>\n",
       "      <th>day</th>\n",
       "    </tr>\n",
       "  </thead>\n",
       "  <tbody>\n",
       "    <tr>\n",
       "      <th>9806995</th>\n",
       "      <td>Taiwan</td>\n",
       "      <td>196</td>\n",
       "      <td>Oh Lord , MiC LOWRY</td>\n",
       "      <td>Oh Lord</td>\n",
       "      <td>MiC LOWRY</td>\n",
       "      <td>2017</td>\n",
       "      <td>1</td>\n",
       "      <td>1</td>\n",
       "    </tr>\n",
       "    <tr>\n",
       "      <th>9806996</th>\n",
       "      <td>Taiwan</td>\n",
       "      <td>197</td>\n",
       "      <td>Love Me Like You Do - From \"Fifty Shades Of G...</td>\n",
       "      <td>Love Me Like You Do - From \"Fifty Shades Of G...</td>\n",
       "      <td>Ellie Goulding</td>\n",
       "      <td>2017</td>\n",
       "      <td>1</td>\n",
       "      <td>1</td>\n",
       "    </tr>\n",
       "    <tr>\n",
       "      <th>9806997</th>\n",
       "      <td>Taiwan</td>\n",
       "      <td>198</td>\n",
       "      <td>Stressed Out , Twenty One Pilots</td>\n",
       "      <td>Stressed Out</td>\n",
       "      <td>Twenty One Pilots</td>\n",
       "      <td>2017</td>\n",
       "      <td>1</td>\n",
       "      <td>1</td>\n",
       "    </tr>\n",
       "    <tr>\n",
       "      <th>9806998</th>\n",
       "      <td>Taiwan</td>\n",
       "      <td>199</td>\n",
       "      <td>The End - From \"La La Land\" Soundtrack , Just...</td>\n",
       "      <td>The End - From \"La La Land\" Soundtrack</td>\n",
       "      <td>Justin Hurwitz</td>\n",
       "      <td>2017</td>\n",
       "      <td>1</td>\n",
       "      <td>1</td>\n",
       "    </tr>\n",
       "    <tr>\n",
       "      <th>9806999</th>\n",
       "      <td>Taiwan</td>\n",
       "      <td>200</td>\n",
       "      <td>Light It Up  - Remix , Major Lazer</td>\n",
       "      <td>Light It Up  - Remix</td>\n",
       "      <td>Major Lazer</td>\n",
       "      <td>2017</td>\n",
       "      <td>1</td>\n",
       "      <td>1</td>\n",
       "    </tr>\n",
       "  </tbody>\n",
       "</table>\n",
       "</div>"
      ],
      "text/plain": [
       "        country  position                                              track  \\\n",
       "9806995  Taiwan       196                               Oh Lord , MiC LOWRY    \n",
       "9806996  Taiwan       197   Love Me Like You Do - From \"Fifty Shades Of G...   \n",
       "9806997  Taiwan       198                  Stressed Out , Twenty One Pilots    \n",
       "9806998  Taiwan       199   The End - From \"La La Land\" Soundtrack , Just...   \n",
       "9806999  Taiwan       200                Light It Up  - Remix , Major Lazer    \n",
       "\n",
       "                                                     title  \\\n",
       "9806995                                           Oh Lord    \n",
       "9806996   Love Me Like You Do - From \"Fifty Shades Of G...   \n",
       "9806997                                      Stressed Out    \n",
       "9806998            The End - From \"La La Land\" Soundtrack    \n",
       "9806999                              Light It Up  - Remix    \n",
       "\n",
       "                      artist  year  month  day  \n",
       "9806995           MiC LOWRY   2017      1    1  \n",
       "9806996      Ellie Goulding   2017      1    1  \n",
       "9806997   Twenty One Pilots   2017      1    1  \n",
       "9806998      Justin Hurwitz   2017      1    1  \n",
       "9806999         Major Lazer   2017      1    1  "
      ]
     },
     "execution_count": 20,
     "metadata": {},
     "output_type": "execute_result"
    }
   ],
   "source": [
    "# Wyświetlenie ostatnich 5 wierszy danych\n",
    "spotify.tail()"
   ]
  },
  {
   "cell_type": "code",
   "execution_count": 3,
   "metadata": {},
   "outputs": [
    {
     "name": "stdout",
     "output_type": "stream",
     "text": [
      "<class 'pandas.core.frame.DataFrame'>\n",
      "Int64Index: 9807001 entries, 0 to 9807000\n",
      "Data columns (total 7 columns):\n",
      " #   Column    Dtype  \n",
      "---  ------    -----  \n",
      " 0   country   object \n",
      " 1   date      object \n",
      " 2   position  float64\n",
      " 3   uri       object \n",
      " 4   track     object \n",
      " 5   title     object \n",
      " 6   artist    object \n",
      "dtypes: float64(1), object(6)\n",
      "memory usage: 4.6 GB\n"
     ]
    }
   ],
   "source": [
    "# Wyświetlenie informacji o data frame\n",
    "spotify.info(memory_usage='deep')"
   ]
  },
  {
   "cell_type": "markdown",
   "metadata": {},
   "source": [
    "## <a id='toc1_2_'></a>[Optymalizacja danych](#toc0_)"
   ]
  },
  {
   "cell_type": "code",
   "execution_count": 3,
   "metadata": {},
   "outputs": [
    {
     "name": "stderr",
     "output_type": "stream",
     "text": [
      "/var/folders/4d/b5zn6jj10d3bz3jfx1x7rggw0000gn/T/ipykernel_1728/3082417695.py:8: UserWarning: Parsing dates in DD/MM/YYYY format when dayfirst=False (the default) was specified. This may lead to inconsistently parsed dates! Specify a format to ensure consistent parsing.\n",
      "  spotify['date'] = pd.to_datetime(spotify['date'])\n"
     ]
    }
   ],
   "source": [
    "# Usunięcie kolumny 'uri', która nie jest potrzebna do analizy\n",
    "spotify.drop(columns=['uri'], inplace=True)\n",
    "\n",
    "# Usunięcie ostatniego wiersza NaN, która nie jest potrzebna do analizy\n",
    "spotify.drop(spotify.index[-1], inplace=True)\n",
    "\n",
    "# Zamiana kolumny 'date' na typ datetime\n",
    "spotify['date'] = pd.to_datetime(spotify['date'])\n",
    "\n",
    "# Dodanie kolumny 'year' na podstawie kolumny 'date'\n",
    "spotify['year'] = spotify['date'].dt.year\n",
    "\n",
    "# Dodanie kolumny 'month' na podstawie kolumny 'date'\n",
    "spotify['month'] = spotify['date'].dt.month\n",
    "\n",
    "# Dodanie kolumny 'day' na podstawie kolumny 'date'\n",
    "spotify['day'] = spotify['date'].dt.day\n",
    "\n",
    "# Usunięcie kolumny 'date', która nie jest potrzebna do analizy\n",
    "spotify.drop(columns=['date'], inplace=True)\n",
    "\n",
    "# Usuwanie wartości NaN z kolumn\n",
    "spotify.dropna(subset=['position'], inplace=True)\n",
    "spotify.dropna(subset=['day'], inplace=True)\n",
    "spotify.dropna(subset=['month'], inplace=True)\n",
    "spotify.dropna(subset=['year'], inplace=True)\n",
    "\n",
    "# Zamiana kolumn liczbowych na int\n",
    "spotify['position'] = spotify['position'].astype(int)\n",
    "spotify['day'] = spotify['day'].astype(int)\n",
    "spotify['month'] = spotify['month'].astype(int)\n",
    "spotify['year'] = spotify['year'].astype(int)\n",
    "\n",
    "# Zamiana kolumn object na category\n",
    "spotify.country = spotify.country.astype('category')\n",
    "spotify.track = spotify.track.astype('category')\n",
    "spotify.title = spotify.title.astype('category')\n",
    "spotify.artist = spotify.artist.astype('category')\n",
    "\n",
    "# Usunięcie duplikatów\n",
    "spotify.drop_duplicates(inplace=True)"
   ]
  },
  {
   "cell_type": "code",
   "execution_count": 16,
   "metadata": {},
   "outputs": [
    {
     "name": "stdout",
     "output_type": "stream",
     "text": [
      "<class 'pandas.core.frame.DataFrame'>\n",
      "Int64Index: 9807000 entries, 0 to 9806999\n",
      "Data columns (total 8 columns):\n",
      " #   Column    Dtype   \n",
      "---  ------    -----   \n",
      " 0   country   category\n",
      " 1   position  int64   \n",
      " 2   track     category\n",
      " 3   title     category\n",
      " 4   artist    category\n",
      " 5   year      int64   \n",
      " 6   month     int64   \n",
      " 7   day       int64   \n",
      "dtypes: category(4), int64(4)\n",
      "memory usage: 491.1 MB\n"
     ]
    }
   ],
   "source": [
    "spotify.info(memory_usage='deep')"
   ]
  },
  {
   "cell_type": "code",
   "execution_count": 4,
   "metadata": {},
   "outputs": [
    {
     "data": {
      "text/html": [
       "<div>\n",
       "<style scoped>\n",
       "    .dataframe tbody tr th:only-of-type {\n",
       "        vertical-align: middle;\n",
       "    }\n",
       "\n",
       "    .dataframe tbody tr th {\n",
       "        vertical-align: top;\n",
       "    }\n",
       "\n",
       "    .dataframe thead th {\n",
       "        text-align: right;\n",
       "    }\n",
       "</style>\n",
       "<table border=\"1\" class=\"dataframe\">\n",
       "  <thead>\n",
       "    <tr style=\"text-align: right;\">\n",
       "      <th></th>\n",
       "      <th>country</th>\n",
       "      <th>position</th>\n",
       "      <th>track</th>\n",
       "      <th>title</th>\n",
       "      <th>artist</th>\n",
       "      <th>year</th>\n",
       "      <th>month</th>\n",
       "      <th>day</th>\n",
       "    </tr>\n",
       "  </thead>\n",
       "  <tbody>\n",
       "    <tr>\n",
       "      <th>0</th>\n",
       "      <td>Global</td>\n",
       "      <td>1</td>\n",
       "      <td>Dakiti , Bad Bunny, Jhay Cortez</td>\n",
       "      <td>Dakiti</td>\n",
       "      <td>Bad Bunny, Jhay Cortez</td>\n",
       "      <td>2020</td>\n",
       "      <td>5</td>\n",
       "      <td>11</td>\n",
       "    </tr>\n",
       "    <tr>\n",
       "      <th>1</th>\n",
       "      <td>Global</td>\n",
       "      <td>2</td>\n",
       "      <td>positions , Ariana Grande</td>\n",
       "      <td>positions</td>\n",
       "      <td>Ariana Grande</td>\n",
       "      <td>2020</td>\n",
       "      <td>5</td>\n",
       "      <td>11</td>\n",
       "    </tr>\n",
       "    <tr>\n",
       "      <th>2</th>\n",
       "      <td>Global</td>\n",
       "      <td>3</td>\n",
       "      <td>Mood  , 24kGoldn</td>\n",
       "      <td>Mood</td>\n",
       "      <td>24kGoldn</td>\n",
       "      <td>2020</td>\n",
       "      <td>5</td>\n",
       "      <td>11</td>\n",
       "    </tr>\n",
       "    <tr>\n",
       "      <th>3</th>\n",
       "      <td>Global</td>\n",
       "      <td>4</td>\n",
       "      <td>Lemonade  , Internet Money</td>\n",
       "      <td>Lemonade</td>\n",
       "      <td>Internet Money</td>\n",
       "      <td>2020</td>\n",
       "      <td>5</td>\n",
       "      <td>11</td>\n",
       "    </tr>\n",
       "    <tr>\n",
       "      <th>4</th>\n",
       "      <td>Global</td>\n",
       "      <td>5</td>\n",
       "      <td>Lonely  , Justin Bieber</td>\n",
       "      <td>Lonely</td>\n",
       "      <td>Justin Bieber</td>\n",
       "      <td>2020</td>\n",
       "      <td>5</td>\n",
       "      <td>11</td>\n",
       "    </tr>\n",
       "  </tbody>\n",
       "</table>\n",
       "</div>"
      ],
      "text/plain": [
       "  country  position                              track        title  \\\n",
       "0  Global         1   Dakiti , Bad Bunny, Jhay Cortez       Dakiti    \n",
       "1  Global         2         positions , Ariana Grande    positions    \n",
       "2  Global         3                  Mood  , 24kGoldn        Mood     \n",
       "3  Global         4        Lemonade  , Internet Money    Lemonade     \n",
       "4  Global         5           Lonely  , Justin Bieber      Lonely     \n",
       "\n",
       "                     artist  year  month  day  \n",
       "0   Bad Bunny, Jhay Cortez   2020      5   11  \n",
       "1            Ariana Grande   2020      5   11  \n",
       "2                 24kGoldn   2020      5   11  \n",
       "3           Internet Money   2020      5   11  \n",
       "4            Justin Bieber   2020      5   11  "
      ]
     },
     "execution_count": 4,
     "metadata": {},
     "output_type": "execute_result"
    }
   ],
   "source": [
    "# Wyświetlenie pierwszych 5 wierszy danych\n",
    "spotify.head()"
   ]
  },
  {
   "cell_type": "code",
   "execution_count": 5,
   "metadata": {},
   "outputs": [
    {
     "data": {
      "text/html": [
       "<div>\n",
       "<style scoped>\n",
       "    .dataframe tbody tr th:only-of-type {\n",
       "        vertical-align: middle;\n",
       "    }\n",
       "\n",
       "    .dataframe tbody tr th {\n",
       "        vertical-align: top;\n",
       "    }\n",
       "\n",
       "    .dataframe thead th {\n",
       "        text-align: right;\n",
       "    }\n",
       "</style>\n",
       "<table border=\"1\" class=\"dataframe\">\n",
       "  <thead>\n",
       "    <tr style=\"text-align: right;\">\n",
       "      <th></th>\n",
       "      <th>country</th>\n",
       "      <th>position</th>\n",
       "      <th>track</th>\n",
       "      <th>title</th>\n",
       "      <th>artist</th>\n",
       "      <th>year</th>\n",
       "      <th>month</th>\n",
       "      <th>day</th>\n",
       "    </tr>\n",
       "  </thead>\n",
       "  <tbody>\n",
       "    <tr>\n",
       "      <th>9806995</th>\n",
       "      <td>Taiwan</td>\n",
       "      <td>196</td>\n",
       "      <td>Oh Lord , MiC LOWRY</td>\n",
       "      <td>Oh Lord</td>\n",
       "      <td>MiC LOWRY</td>\n",
       "      <td>2017</td>\n",
       "      <td>1</td>\n",
       "      <td>1</td>\n",
       "    </tr>\n",
       "    <tr>\n",
       "      <th>9806996</th>\n",
       "      <td>Taiwan</td>\n",
       "      <td>197</td>\n",
       "      <td>Love Me Like You Do - From \"Fifty Shades Of G...</td>\n",
       "      <td>Love Me Like You Do - From \"Fifty Shades Of G...</td>\n",
       "      <td>Ellie Goulding</td>\n",
       "      <td>2017</td>\n",
       "      <td>1</td>\n",
       "      <td>1</td>\n",
       "    </tr>\n",
       "    <tr>\n",
       "      <th>9806997</th>\n",
       "      <td>Taiwan</td>\n",
       "      <td>198</td>\n",
       "      <td>Stressed Out , Twenty One Pilots</td>\n",
       "      <td>Stressed Out</td>\n",
       "      <td>Twenty One Pilots</td>\n",
       "      <td>2017</td>\n",
       "      <td>1</td>\n",
       "      <td>1</td>\n",
       "    </tr>\n",
       "    <tr>\n",
       "      <th>9806998</th>\n",
       "      <td>Taiwan</td>\n",
       "      <td>199</td>\n",
       "      <td>The End - From \"La La Land\" Soundtrack , Just...</td>\n",
       "      <td>The End - From \"La La Land\" Soundtrack</td>\n",
       "      <td>Justin Hurwitz</td>\n",
       "      <td>2017</td>\n",
       "      <td>1</td>\n",
       "      <td>1</td>\n",
       "    </tr>\n",
       "    <tr>\n",
       "      <th>9806999</th>\n",
       "      <td>Taiwan</td>\n",
       "      <td>200</td>\n",
       "      <td>Light It Up  - Remix , Major Lazer</td>\n",
       "      <td>Light It Up  - Remix</td>\n",
       "      <td>Major Lazer</td>\n",
       "      <td>2017</td>\n",
       "      <td>1</td>\n",
       "      <td>1</td>\n",
       "    </tr>\n",
       "  </tbody>\n",
       "</table>\n",
       "</div>"
      ],
      "text/plain": [
       "        country  position                                              track  \\\n",
       "9806995  Taiwan       196                               Oh Lord , MiC LOWRY    \n",
       "9806996  Taiwan       197   Love Me Like You Do - From \"Fifty Shades Of G...   \n",
       "9806997  Taiwan       198                  Stressed Out , Twenty One Pilots    \n",
       "9806998  Taiwan       199   The End - From \"La La Land\" Soundtrack , Just...   \n",
       "9806999  Taiwan       200                Light It Up  - Remix , Major Lazer    \n",
       "\n",
       "                                                     title  \\\n",
       "9806995                                           Oh Lord    \n",
       "9806996   Love Me Like You Do - From \"Fifty Shades Of G...   \n",
       "9806997                                      Stressed Out    \n",
       "9806998            The End - From \"La La Land\" Soundtrack    \n",
       "9806999                              Light It Up  - Remix    \n",
       "\n",
       "                      artist  year  month  day  \n",
       "9806995           MiC LOWRY   2017      1    1  \n",
       "9806996      Ellie Goulding   2017      1    1  \n",
       "9806997   Twenty One Pilots   2017      1    1  \n",
       "9806998      Justin Hurwitz   2017      1    1  \n",
       "9806999         Major Lazer   2017      1    1  "
      ]
     },
     "execution_count": 5,
     "metadata": {},
     "output_type": "execute_result"
    }
   ],
   "source": [
    "# Wyświetlenie ostatnich 5 wierszy danych\n",
    "spotify.tail()"
   ]
  },
  {
   "cell_type": "markdown",
   "metadata": {},
   "source": [
    "## <a id='toc1_3_'></a>[Analiza danych](#toc0_)"
   ]
  },
  {
   "cell_type": "markdown",
   "metadata": {},
   "source": [
    "### <a id='toc1_3_1_'></a>[Analiza całej bazy](#toc0_)"
   ]
  },
  {
   "cell_type": "code",
   "execution_count": 29,
   "metadata": {},
   "outputs": [
    {
     "data": {
      "text/plain": [
       "count    9.807000e+06\n",
       "mean     1.005000e+02\n",
       "std      5.773431e+01\n",
       "min      1.000000e+00\n",
       "25%      5.075000e+01\n",
       "50%      1.005000e+02\n",
       "75%      1.502500e+02\n",
       "max      2.000000e+02\n",
       "Name: position, dtype: float64"
      ]
     },
     "execution_count": 29,
     "metadata": {},
     "output_type": "execute_result"
    }
   ],
   "source": [
    "spotify.position.describe()"
   ]
  },
  {
   "cell_type": "code",
   "execution_count": 30,
   "metadata": {},
   "outputs": [
    {
     "name": "stdout",
     "output_type": "stream",
     "text": [
      "Liczba krajów w bazie: 35\n"
     ]
    }
   ],
   "source": [
    "# Ilość krajów w bazie\n",
    "total_countries = spotify['country'].nunique()\n",
    "print(f\"Liczba krajów w bazie: {total_countries}\")"
   ]
  },
  {
   "cell_type": "code",
   "execution_count": 31,
   "metadata": {},
   "outputs": [
    {
     "name": "stdout",
     "output_type": "stream",
     "text": [
      "Liczba unikalnych artystów w bazie: 21469\n"
     ]
    }
   ],
   "source": [
    "# Ilość artystów w bazie\n",
    "total_artists = spotify['artist'].nunique()\n",
    "print(f\"Liczba unikalnych artystów w bazie: {total_artists}\")"
   ]
  },
  {
   "cell_type": "code",
   "execution_count": 32,
   "metadata": {},
   "outputs": [
    {
     "name": "stdout",
     "output_type": "stream",
     "text": [
      "Liczba utworów w bazie: 56660\n"
     ]
    }
   ],
   "source": [
    "# Ilość utworów w bazie\n",
    "total_tracks = spotify['track'].nunique()\n",
    "print(f\"Liczba utworów w bazie: {total_tracks}\")"
   ]
  },
  {
   "cell_type": "markdown",
   "metadata": {},
   "source": [
    "#### <a id='toc1_3_1_1_'></a>[Artyści](#toc0_)"
   ]
  },
  {
   "cell_type": "code",
   "execution_count": 33,
   "metadata": {},
   "outputs": [
    {
     "name": "stdout",
     "output_type": "stream",
     "text": [
      "Top 10 najpopularniejszych artystów na świecie w 2017 roku:\n",
      "artist\n",
      " Ed Sheeran           8190919\n",
      " Major Lazer          2581441\n",
      " Shawn Mendes         2501379\n",
      " The Chainsmokers     2165221\n",
      " Drake                2118930\n",
      " Bruno Mars           2106018\n",
      " Justin Bieber        2080715\n",
      " Kendrick Lamar       1949635\n",
      " Coldplay             1947743\n",
      " Sia                  1867478\n",
      "Name: position, dtype: int64\n"
     ]
    }
   ],
   "source": [
    "# Najpopularniejsi artyści na świecie w 2017\n",
    "top_artists_2017 = spotify.loc[(spotify['year'] == 2017)].groupby('artist')['position'].sum().sort_values(ascending=False).head(10)\n",
    "print(\"Top 10 najpopularniejszych artystów na świecie w 2017 roku:\")\n",
    "print(top_artists_2017)"
   ]
  },
  {
   "cell_type": "code",
   "execution_count": 34,
   "metadata": {},
   "outputs": [
    {
     "name": "stdout",
     "output_type": "stream",
     "text": [
      "Top 10 najpopularniejszych artystów na świecie w 2018 roku:\n",
      "artist\n",
      " Ed Sheeran          5867633\n",
      " XXXTENTACION        4794845\n",
      " Post Malone         3811340\n",
      " Imagine Dragons     3403767\n",
      " Drake               2678260\n",
      " Eminem              1960081\n",
      " Shawn Mendes        1955906\n",
      " Dua Lipa            1925108\n",
      " Camila Cabello      1896539\n",
      " Khalid              1767754\n",
      "Name: position, dtype: int64\n"
     ]
    }
   ],
   "source": [
    "# Najpopularniejsi artyści na świecie w 2018\n",
    "top_artists_2018 = spotify.loc[(spotify['year'] == 2018)].groupby('artist')['position'].sum().sort_values(ascending=False).head(10)\n",
    "print(\"Top 10 najpopularniejszych artystów na świecie w 2018 roku:\")\n",
    "print(top_artists_2018)"
   ]
  },
  {
   "cell_type": "code",
   "execution_count": 35,
   "metadata": {},
   "outputs": [
    {
     "name": "stdout",
     "output_type": "stream",
     "text": [
      "Top 10 najpopularniejszych artystów na świecie w 2019 roku:\n",
      "artist\n",
      " Billie Eilish       5253631\n",
      " Ed Sheeran          4903187\n",
      " Post Malone         3705951\n",
      " Queen               2759009\n",
      " Ariana Grande       2476833\n",
      " Khalid              2135392\n",
      " Imagine Dragons     2085464\n",
      " XXXTENTACION        1982778\n",
      " Juice WRLD          1545276\n",
      " Bad Bunny           1483970\n",
      "Name: position, dtype: int64\n"
     ]
    }
   ],
   "source": [
    "# Najpopularniejsi artyści na świecie w 2019\n",
    "top_artists_2019 = spotify.loc[(spotify['year'] == 2019)].groupby('artist')['position'].sum().sort_values(ascending=False).head(10)\n",
    "print(\"Top 10 najpopularniejszych artystów na świecie w 2019 roku:\")\n",
    "print(top_artists_2019)"
   ]
  },
  {
   "cell_type": "code",
   "execution_count": 36,
   "metadata": {},
   "outputs": [
    {
     "name": "stdout",
     "output_type": "stream",
     "text": [
      "Top 10 najpopularniejszych artystów na świecie w 2020 roku:\n",
      "artist\n",
      " Billie Eilish     3571967\n",
      " Juice WRLD        2645404\n",
      " Ed Sheeran        2639187\n",
      " Travis Scott      2144542\n",
      " Lewis Capaldi     1946826\n",
      " Harry Styles      1946725\n",
      " Dua Lipa          1750447\n",
      " Pop Smoke         1737366\n",
      " Post Malone       1705111\n",
      " Bad Bunny         1406474\n",
      "Name: position, dtype: int64\n"
     ]
    }
   ],
   "source": [
    "# Najpopularniejsi artyści na świecie w 2020\n",
    "top_artists_2020 = spotify.loc[(spotify['year'] == 2020)].groupby('artist')['position'].sum().sort_values(ascending=False).head(10)\n",
    "print(\"Top 10 najpopularniejszych artystów na świecie w 2020 roku:\")\n",
    "print(top_artists_2020)"
   ]
  },
  {
   "cell_type": "code",
   "execution_count": 37,
   "metadata": {},
   "outputs": [
    {
     "name": "stdout",
     "output_type": "stream",
     "text": [
      "Top 10 najpopularniejszych artystów na świecie w latach 2017 - 2020:\n",
      "artist\n",
      " Ed Sheeran          21600926\n",
      " Post Malone         10218977\n",
      " Billie Eilish        9994756\n",
      " XXXTENTACION         8988373\n",
      " Imagine Dragons      7918155\n",
      " Drake                7302590\n",
      " Shawn Mendes         6134582\n",
      " Travis Scott         5784227\n",
      " Ariana Grande        5441118\n",
      " Dua Lipa             5294146\n",
      "Name: position, dtype: int64\n"
     ]
    }
   ],
   "source": [
    "# Najpopularniejsi artyści na świecie w 2017 - 2020\n",
    "top_artists = spotify.groupby('artist')['position'].sum().sort_values(ascending=False).head(10)\n",
    "print(\"Top 10 najpopularniejszych artystów na świecie w latach 2017 - 2020:\")\n",
    "print(top_artists)"
   ]
  },
  {
   "cell_type": "markdown",
   "metadata": {},
   "source": [
    "#### <a id='toc1_3_1_2_'></a>[Utwory](#toc0_)"
   ]
  },
  {
   "cell_type": "code",
   "execution_count": 38,
   "metadata": {},
   "outputs": [
    {
     "name": "stdout",
     "output_type": "stream",
     "text": [
      "Top 10 najpopularniejszych utworów na świecie w 2017 roku:\n",
      "track\n",
      " Thinking out Loud , Ed Sheeran                        1157016\n",
      " Photograph , Ed Sheeran                               1140227\n",
      " Treat You Better , Shawn Mendes                        999389\n",
      " Love Yourself , Justin Bieber                          977049\n",
      " Don't Let Me Down  , The Chainsmokers                  972399\n",
      " We Don't Talk Anymore  , Charlie Puth                  925471\n",
      " I Took A Pill In Ibiza - Seeb Remix , Mike Posner      909839\n",
      " One Dance , Drake, WizKid, Kyla                        902174\n",
      " Cheap Thrills , Sia                                    880081\n",
      " Let Me Love You , DJ Snake, Justin Bieber              856255\n",
      "Name: position, dtype: int64\n"
     ]
    }
   ],
   "source": [
    "# Najpopularniejsze utwory na świecie w danym 2017 roku\n",
    "top_songs_2017 = spotify.loc[(spotify['year'] == 2017)].groupby('track')['position'].sum().sort_values(ascending=False).head(10)\n",
    "print(\"Top 10 najpopularniejszych utworów na świecie w 2017 roku:\")\n",
    "print(top_songs_2017)"
   ]
  },
  {
   "cell_type": "code",
   "execution_count": 39,
   "metadata": {},
   "outputs": [
    {
     "name": "stdout",
     "output_type": "stream",
     "text": [
      "Top 10 najpopularniejszych utworów na świecie w 2018 roku:\n",
      "track\n",
      " Believer , Imagine Dragons                                1221334\n",
      " Thunder , Imagine Dragons                                 1096964\n",
      " Perfect , Ed Sheeran                                      1010369\n",
      " Shape of You , Ed Sheeran                                  962729\n",
      " Havana  , Camila Cabello                                   927416\n",
      " New Rules , Dua Lipa                                       924844\n",
      " Thinking out Loud , Ed Sheeran                             854877\n",
      " Too Good At Good,es , Sam Smith                            818546\n",
      " IDGAF , Dua Lipa                                           802453\n",
      " Something Just Like This , The Chainsmokers, Coldplay      752035\n",
      "Name: position, dtype: int64\n"
     ]
    }
   ],
   "source": [
    "# Najpopularniejsze utwory na świecie 2018 roku\n",
    "top_songs_2018 = spotify.loc[(spotify['year'] == 2018)].groupby('track')['position'].sum().sort_values(ascending=False).head(10)\n",
    "print(\"Top 10 najpopularniejszych utworów na świecie w 2018 roku:\")\n",
    "print(top_songs_2018)"
   ]
  },
  {
   "cell_type": "code",
   "execution_count": 40,
   "metadata": {},
   "outputs": [
    {
     "name": "stdout",
     "output_type": "stream",
     "text": [
      "Top 10 najpopularniejszych utworów na świecie w 2019 roku:\n",
      "track\n",
      " Shape of You , Ed Sheeran                 1092857\n",
      " Bohemian Rhapsody - 2011 Mix , Queen      1018476\n",
      " Perfect , Ed Sheeran                       933914\n",
      " Believer , Imagine Dragons                 877184\n",
      " Girls Like You  , Maroon 5                 862990\n",
      " Happier , Marshmello, Bastille             818983\n",
      " rockstar  , Post Malone                    814705\n",
      " when the party's over , Billie Eilish      799822\n",
      " Shallow , Lady Gaga, Bradley Cooper        773353\n",
      " Don't Stop Me Now - 2011 Mix , Queen       748801\n",
      "Name: position, dtype: int64\n"
     ]
    }
   ],
   "source": [
    "# Najpopularniejsze utwory na świecie 2019 roku\n",
    "top_songs_2019 = spotify.loc[(spotify['year'] == 2019)].groupby('track')['position'].sum().sort_values(ascending=False).head(10)\n",
    "print(\"Top 10 najpopularniejszych utworów na świecie w 2019 roku:\")\n",
    "print(top_songs_2019)"
   ]
  },
  {
   "cell_type": "code",
   "execution_count": 41,
   "metadata": {},
   "outputs": [
    {
     "name": "stdout",
     "output_type": "stream",
     "text": [
      "Top 10 najpopularniejszych utworów na świecie w 2020 roku:\n",
      "track\n",
      " Señorita , Shawn Mendes, Camila Cabello     896511\n",
      " bad guy , Billie Eilish                     818826\n",
      " Shallow , Lady Gaga, Bradley Cooper         777638\n",
      " lovely  , Billie Eilish                     773892\n",
      " Adore You , Harry Styles                    763248\n",
      " I Don't Care  , Ed Sheeran                  715092\n",
      " HIGHEST IN THE ROOM , Travis Scott          674380\n",
      " Memories , Maroon 5                         668644\n",
      " Someone You Loved , Lewis Capaldi           662291\n",
      " Ride It , Regard                            646988\n",
      "Name: position, dtype: int64\n"
     ]
    }
   ],
   "source": [
    "# Najpopularniejsze utwory na świecie 2020 roku\n",
    "top_songs_2020 = spotify.loc[(spotify['year'] == 2020)].groupby('track')['position'].sum().sort_values(ascending=False).head(10)\n",
    "print(\"Top 10 najpopularniejszych utworów na świecie w 2020 roku:\")\n",
    "print(top_songs_2020)"
   ]
  },
  {
   "cell_type": "code",
   "execution_count": 42,
   "metadata": {},
   "outputs": [
    {
     "name": "stdout",
     "output_type": "stream",
     "text": [
      "Top 10 najpopularniejszych artystów na świecie w latach 2017 - 2020:\n",
      "track\n",
      " Believer , Imagine Dragons              3371793\n",
      " Perfect , Ed Sheeran                    2957517\n",
      " Shape of You , Ed Sheeran               2721992\n",
      " Say You Won't Let Go , James Arthur     2596215\n",
      " Photograph , Ed Sheeran                 2423393\n",
      " Thinking out Loud , Ed Sheeran          2405926\n",
      " Closer , The Chainsmokers, Halsey       2092139\n",
      " Thunder , Imagine Dragons               1962058\n",
      " rockstar  , Post Malone                 1869615\n",
      " Jocelyn Flores , XXXTENTACION           1856194\n",
      "Name: position, dtype: int64\n"
     ]
    }
   ],
   "source": [
    "# Najpopularniejsze utwory na świecie w latach 2017 - 2020\n",
    "top_tracks = spotify.groupby('track')['position'].sum().sort_values(ascending=False).head(10)\n",
    "print(\"Top 10 najpopularniejszych artystów na świecie w latach 2017 - 2020:\")\n",
    "print(top_tracks)"
   ]
  },
  {
   "cell_type": "markdown",
   "metadata": {},
   "source": [
    "### <a id='toc1_3_2_'></a>[Analiza listy Global](#toc0_)"
   ]
  },
  {
   "cell_type": "markdown",
   "metadata": {},
   "source": [
    "#### <a id='toc1_3_2_1_'></a>[Artyści](#toc0_)"
   ]
  },
  {
   "cell_type": "code",
   "execution_count": 43,
   "metadata": {},
   "outputs": [
    {
     "name": "stdout",
     "output_type": "stream",
     "text": [
      "Top 10 najpopularniejszych artystów na liście globalnej w 2017 roku:\n",
      "artist\n",
      " Ed Sheeran            284518\n",
      " Drake                 118673\n",
      " Kendrick Lamar        117328\n",
      " Migos                 107634\n",
      " Major Lazer           106553\n",
      " Shawn Mendes           95531\n",
      " Justin Bieber          93523\n",
      " Twenty One Pilots      91287\n",
      " XXXTENTACION           87814\n",
      " The Chainsmokers       85893\n",
      "Name: position, dtype: int64\n"
     ]
    }
   ],
   "source": [
    "# Najpopularniejsi artyści na liście global w 2017 roku\n",
    "spotify_2017_glob_art = spotify.loc[(spotify['country'] == 'Global') & (spotify['year'] == 2017)]\n",
    "top_artists_2017_glob = spotify_2017_glob_art.groupby('artist')['position'].sum().sort_values(ascending=False).head(10)\n",
    "print(\"Top 10 najpopularniejszych artystów na liście globalnej w 2017 roku:\")\n",
    "print(top_artists_2017_glob)"
   ]
  },
  {
   "cell_type": "code",
   "execution_count": 44,
   "metadata": {},
   "outputs": [
    {
     "name": "stdout",
     "output_type": "stream",
     "text": [
      "Top 10 najpopularniejszych artystów na liście globalnej w 2018 roku:\n",
      "artist\n",
      " XXXTENTACION        237632\n",
      " Ed Sheeran          236285\n",
      " Post Malone         180501\n",
      " Travis Scott        138462\n",
      " Imagine Dragons     116942\n",
      " Drake               115022\n",
      " Khalid              109216\n",
      " Kendrick Lamar       90676\n",
      " Eminem               82949\n",
      " Shawn Mendes         77638\n",
      "Name: position, dtype: int64\n"
     ]
    }
   ],
   "source": [
    "# Najpopularniejsi artyści na liście global w 2018 roku\n",
    "spotify_2018_glob_art = spotify.loc[(spotify['country'] == 'Global') & (spotify['year'] == 2018)]\n",
    "top_artists_2018_glob = spotify_2018_glob_art.groupby('artist')['position'].sum().sort_values(ascending=False).head(10)\n",
    "print(\"Top 10 najpopularniejszych artystów na liście globalnej w 2018 roku:\")\n",
    "print(top_artists_2018_glob)"
   ]
  },
  {
   "cell_type": "code",
   "execution_count": 45,
   "metadata": {},
   "outputs": [
    {
     "name": "stdout",
     "output_type": "stream",
     "text": [
      "Top 10 najpopularniejszych artystów na liście globalnej w 2019 roku:\n",
      "artist\n",
      " Billie Eilish       281823\n",
      " Ed Sheeran          212668\n",
      " XXXTENTACION        186950\n",
      " Post Malone         183206\n",
      " Queen               145930\n",
      " Imagine Dragons     125406\n",
      " Drake               108778\n",
      " Khalid              108504\n",
      " Ariana Grande       100065\n",
      " Juice WRLD           88677\n",
      "Name: position, dtype: int64\n"
     ]
    }
   ],
   "source": [
    "# Najpopularniejsi artyści na liście global w 2019 roku\n",
    "spotify_2019_glob_art = spotify.loc[(spotify['country'] == 'Global') & (spotify['year'] == 2019)]\n",
    "top_artists_2019_glob = spotify_2019_glob_art.groupby('artist')['position'].sum().sort_values(ascending=False).head(10)\n",
    "print(\"Top 10 najpopularniejszych artystów na liście globalnej w 2019 roku:\")\n",
    "print(top_artists_2019_glob)"
   ]
  },
  {
   "cell_type": "code",
   "execution_count": 46,
   "metadata": {},
   "outputs": [
    {
     "name": "stdout",
     "output_type": "stream",
     "text": [
      "Top 10 najpopularniejszych artystów na liście globalnej w 2020 roku:\n",
      "artist\n",
      " Juice WRLD        174593\n",
      " Ed Sheeran        171732\n",
      " Billie Eilish     165541\n",
      " XXXTENTACION      133360\n",
      " Post Malone       113457\n",
      " Travis Scott       94809\n",
      " J Balvin           91205\n",
      " Harry Styles       86737\n",
      " Pop Smoke          83015\n",
      " Bad Bunny          80950\n",
      "Name: position, dtype: int64\n"
     ]
    }
   ],
   "source": [
    "# Najpopularniejsi artyści na liście global w 2020 roku\n",
    "spotify_2020_glob_art = spotify.loc[(spotify['country'] == 'Global') & (spotify['year'] == 2020)]\n",
    "top_artists_2020_glob = spotify_2020_glob_art.groupby('artist')['position'].sum().sort_values(ascending=False).head(10)\n",
    "print(\"Top 10 najpopularniejszych artystów na liście Global w 2020 roku:\")\n",
    "print(top_artists_2020_glob)"
   ]
  },
  {
   "cell_type": "code",
   "execution_count": 67,
   "metadata": {},
   "outputs": [
    {
     "name": "stdout",
     "output_type": "stream",
     "text": [
      "Top 10 najpopularniejszych artystów na liście global w latach 2017 - 2020:\n",
      "artist\n",
      " Juice WRLD        174593\n",
      " Ed Sheeran        171732\n",
      " Billie Eilish     165541\n",
      " XXXTENTACION      133360\n",
      " Post Malone       113457\n",
      " Travis Scott       94809\n",
      " J Balvin           91205\n",
      " Harry Styles       86737\n",
      " Pop Smoke          83015\n",
      " Bad Bunny          80950\n",
      "Name: position, dtype: int64\n"
     ]
    }
   ],
   "source": [
    "# Najpopularniejsi artyści na liście globa w 2017 - 2020\n",
    "spotify_glob_art = spotify.loc[(spotify['country'] == 'Global') & (spotify['year'] == 2020)]\n",
    "top_artists_glob = spotify_glob_art.groupby('artist')['position'].sum().sort_values(ascending=False).head(10)\n",
    "print(\"Top 10 najpopularniejszych artystów na liście Global w latach 2017 - 2020:\")\n",
    "print(top_artists_glob)"
   ]
  },
  {
   "cell_type": "markdown",
   "metadata": {},
   "source": [
    "#### <a id='toc1_3_2_2_'></a>[Utwory](#toc0_)"
   ]
  },
  {
   "cell_type": "code",
   "execution_count": 48,
   "metadata": {},
   "outputs": [
    {
     "name": "stdout",
     "output_type": "stream",
     "text": [
      "Top 10 najpopularniejszych utworów na liście Global w 2017 roku:\n",
      "track\n",
      " White Iverson , Post Malone                           51020\n",
      " Lose Yourself - From \"8 Mile\" Soundtrack , Eminem     48871\n",
      " Love Yourself , Justin Bieber                         47765\n",
      " Thinking out Loud , Ed Sheeran                        45742\n",
      " We Don't Talk Anymore  , Charlie Puth                 42390\n",
      " Photograph , Ed Sheeran                               39761\n",
      " Treat You Better , Shawn Mendes                       38839\n",
      " Happier , Ed Sheeran                                  38147\n",
      " Look At Me! , XXXTENTACION                            38023\n",
      " Me llamas  - Remix , Piso 21                          37379\n",
      "Name: position, dtype: int64\n"
     ]
    }
   ],
   "source": [
    "# Najpopularniejsze utwory na liście global w 2017 roku:\n",
    "spotify_2017_glob = spotify.loc[(spotify['country'] == 'Global') & (spotify['year'] == 2017)]\n",
    "top_songs_2017_glob = spotify_2017_glob.groupby('track')['position'].sum().sort_values(ascending=False).head(10)\n",
    "print(\"Top 10 najpopularniejszych utworów na liście Global w 2017 roku:\")\n",
    "print(top_songs_2017_glob)"
   ]
  },
  {
   "cell_type": "code",
   "execution_count": 49,
   "metadata": {},
   "outputs": [
    {
     "name": "stdout",
     "output_type": "stream",
     "text": [
      "Top 10 najpopularniejszych utworów na liście Global w 2018 roku:\n",
      "track\n",
      " Thinking out Loud , Ed Sheeran                            52811\n",
      " Closer , The Chainsmokers, Halsey                         51187\n",
      " goosebumps , Travis Scott                                 49284\n",
      " Wonderwall - Remastered , Oasis                           47647\n",
      " Say You Won't Let Go , James Arthur                       45731\n",
      " Something Just Like This , The Chainsmokers, Coldplay     45567\n",
      " Photograph , Ed Sheeran                                   45199\n",
      " I Like Me Better , Lauv                                   45007\n",
      " Africa , TOTO                                             42029\n",
      " Whatever It Takes , Imagine Dragons                       41320\n",
      "Name: position, dtype: int64\n"
     ]
    }
   ],
   "source": [
    "# Najpopularniejsze utwory na liście global w 2018 roku:\n",
    "spotify_2018_glob = spotify.loc[(spotify['country'] == 'Global') & (spotify['year'] == 2018)]\n",
    "top_songs_2018_glob = spotify_2018_glob.groupby('track')['position'].sum().sort_values(ascending=False).head(10)\n",
    "print(\"Top 10 najpopularniejszych utworów na liście Global w 2018 roku:\")\n",
    "print(top_songs_2018_glob)"
   ]
  },
  {
   "cell_type": "code",
   "execution_count": 50,
   "metadata": {},
   "outputs": [
    {
     "name": "stdout",
     "output_type": "stream",
     "text": [
      "Top 10 najpopularniejszych utworów na liście Global w 2019 roku:\n",
      "track\n",
      " Closer , The Chainsmokers, Halsey                        51074\n",
      " Say You Won't Let Go , James Arthur                      49511\n",
      " Photograph , Ed Sheeran                                  49495\n",
      " Thunder , Imagine Dragons                                49222\n",
      " Too Good At Good,es , Sam Smith                          48468\n",
      " Wonderwall - Remastered , Oasis                          47941\n",
      " Jocelyn Flores , XXXTENTACION                            46947\n",
      " I Like Me Better , Lauv                                  45718\n",
      " Another One Bites The Dust - Remastered 2011 , Queen     44786\n",
      " Moonlight , XXXTENTACION                                 43758\n",
      "Name: position, dtype: int64\n"
     ]
    }
   ],
   "source": [
    "# Najpopularniejsze utwory na liście global w 2019 roku:\n",
    "spotify_2019_glob = spotify.loc[(spotify['country'] == 'Global') & (spotify['year'] == 2019)]\n",
    "top_songs_2019_glob = spotify_2019_glob.groupby('track')['position'].sum().sort_values(ascending=False).head(10)\n",
    "print(\"Top 10 najpopularniejszych utworów na liście Global w 2019 roku:\")\n",
    "print(top_songs_2019_glob)"
   ]
  },
  {
   "cell_type": "code",
   "execution_count": 51,
   "metadata": {},
   "outputs": [
    {
     "name": "stdout",
     "output_type": "stream",
     "text": [
      "Top 10 najpopularniejszych utworów na liście Global w 2020 roku:\n",
      "track\n",
      " All of Me , John Legend                      49273\n",
      " Perfect , Ed Sheeran                         44139\n",
      " Moonlight , XXXTENTACION                     43047\n",
      " Without Me , Halsey                          42714\n",
      " The Less I Know The Better , Tame Impala     42043\n",
      " Get You The Moon  , Kina                     41654\n",
      " Be Alright , Dean Lewis                      41464\n",
      " SAD! , XXXTENTACION                          41394\n",
      " Say You Won't Let Go , James Arthur          41188\n",
      " Jocelyn Flores , XXXTENTACION                40402\n",
      "Name: position, dtype: int64\n"
     ]
    }
   ],
   "source": [
    "# Najpopularniejsze utwory na liście global w 2020 roku:\n",
    "spotify_2020_glob = spotify.loc[(spotify['country'] == 'Global') & (spotify['year'] == 2020)]\n",
    "top_songs_2020_glob = spotify_2020_glob.groupby('track')['position'].sum().sort_values(ascending=False).head(10)\n",
    "print(\"Top 10 najpopularniejszych utworów na liście Global w 2020 roku:\")\n",
    "print(top_songs_2020_glob)"
   ]
  },
  {
   "cell_type": "code",
   "execution_count": 69,
   "metadata": {},
   "outputs": [
    {
     "name": "stdout",
     "output_type": "stream",
     "text": [
      "Top 10 najpopularniejszych na loiście global:\n",
      "track\n",
      " Say You Won't Let Go , James Arthur                       157424\n",
      " Photograph , Ed Sheeran                                   149311\n",
      " Closer , The Chainsmokers, Halsey                         141807\n",
      " goosebumps , Travis Scott                                 136607\n",
      " Something Just Like This , The Chainsmokers, Coldplay     134956\n",
      " Thinking out Loud , Ed Sheeran                            131101\n",
      " I Like Me Better , Lauv                                   129551\n",
      " Perfect , Ed Sheeran                                      128675\n",
      " Wonderwall - Remastered , Oasis                           121671\n",
      " Jocelyn Flores , XXXTENTACION                             119226\n",
      "Name: position, dtype: int64\n"
     ]
    }
   ],
   "source": [
    "# Najpopularniejsze utwory na liście global w latach 2017 - 2020\n",
    "top_songs_glob = spotify.loc[(spotify['country'] == 'Global')].groupby('track')['position'].sum().sort_values(ascending=False).head(10)\n",
    "print(\"Top 10 najpopularniejszych na loiście global:\")\n",
    "print(top_songs_glob)"
   ]
  },
  {
   "cell_type": "markdown",
   "metadata": {},
   "source": [
    "### <a id='toc1_3_3_'></a>[Analiza Polska](#toc0_)"
   ]
  },
  {
   "cell_type": "markdown",
   "metadata": {},
   "source": [
    "#### <a id='toc1_3_3_1_'></a>[Artyści](#toc0_)"
   ]
  },
  {
   "cell_type": "code",
   "execution_count": 70,
   "metadata": {},
   "outputs": [
    {
     "name": "stdout",
     "output_type": "stream",
     "text": [
      "Top 10 najpopularniejszych artystów w Polsce w 2017 roku:\n",
      "artist\n",
      " Taco Hemingway        346598\n",
      " Ed Sheeran            272722\n",
      " Quebonafide           143544\n",
      " Imagine Dragons       141496\n",
      " Major Lazer           115489\n",
      " Twenty One Pilots      94857\n",
      " Shawn Mendes           92850\n",
      " Sia                    83337\n",
      " Dawid Podsiadło        72543\n",
      " The Weeknd             72050\n",
      "Name: position, dtype: int64\n"
     ]
    }
   ],
   "source": [
    "# Najpopularniejsi artyści w Polsce w 2017 roku\n",
    "spotify_2017_pl_art = spotify.loc[(spotify['country'] == 'Poland') & (spotify['year'] == 2017)]\n",
    "top_artists_2017_pl = spotify_2017_pl_art.groupby('artist')['position'].sum().sort_values(ascending=False).head(10)\n",
    "print(\"Top 10 najpopularniejszych artystów w Polsce w 2017 roku:\")\n",
    "print(top_artists_2017_pl)"
   ]
  },
  {
   "cell_type": "code",
   "execution_count": 54,
   "metadata": {},
   "outputs": [
    {
     "name": "stdout",
     "output_type": "stream",
     "text": [
      "Top 10 najpopularniejszych artystów w Polsce w 2018 roku:\n",
      "artist\n",
      " Taco Hemingway                              270252\n",
      " TACONAFIDE, Quebonafide, Taco Hemingway     169206\n",
      " XXXTENTACION                                135663\n",
      " Imagine Dragons                             131329\n",
      " Dawid Podsiadło                             114459\n",
      " Young Igi                                    99131\n",
      " Bedoes, Kubi Producent                       95244\n",
      " Ed Sheeran                                   89201\n",
      " Post Malone                                  84874\n",
      " Shawn Mendes                                 79854\n",
      "Name: position, dtype: int64\n"
     ]
    }
   ],
   "source": [
    "# Najpopularniejsi artyści w Polsce w 2018 roku\n",
    "spotify_2018_pl_art = spotify.loc[(spotify['country'] == 'Poland') & (spotify['year'] == 2018)]\n",
    "top_artists_2018_pl = spotify_2018_pl_art.groupby('artist')['position'].sum().sort_values(ascending=False).head(10)\n",
    "print(\"Top 10 najpopularniejszych artystów w Polsce w 2018 roku:\")\n",
    "print(top_artists_2018_pl)"
   ]
  },
  {
   "cell_type": "code",
   "execution_count": 55,
   "metadata": {},
   "outputs": [
    {
     "name": "stdout",
     "output_type": "stream",
     "text": [
      "Top 10 najpopularniejszych artystów w Polsce w 2019 roku:\n",
      "artist\n",
      " Dawid Podsiadło     213079\n",
      " Billie Eilish       180540\n",
      " chillwagon          134847\n",
      " PRO8L3M             126796\n",
      " White 2115          124180\n",
      " Szpaku              113581\n",
      " Otsochodzi          109559\n",
      " Taco Hemingway       98938\n",
      " Post Malone          95435\n",
      " Guzior               91264\n",
      "Name: position, dtype: int64\n"
     ]
    }
   ],
   "source": [
    "# Najpopularniejsi artyści w Polsce w 2019 roku\n",
    "spotify_2019_pl_art = spotify.loc[(spotify['country'] == 'Poland') & (spotify['year'] == 2019)]\n",
    "top_artists_2019_pl = spotify_2019_pl_art.groupby('artist')['position'].sum().sort_values(ascending=False).head(10)\n",
    "print(\"Top 10 najpopularniejszych artystów w Polsce w 2019 roku:\")\n",
    "print(top_artists_2019_pl)"
   ]
  },
  {
   "cell_type": "code",
   "execution_count": 56,
   "metadata": {},
   "outputs": [
    {
     "name": "stdout",
     "output_type": "stream",
     "text": [
      "Top 10 najpopularniejszych artystów w Polsce w 2020 roku:\n",
      "artist\n",
      " Bedoes, Lanek       159857\n",
      " Mata                140657\n",
      " White 2115          127273\n",
      " Dawid Podsiadło     108975\n",
      " chillwagon          105312\n",
      " Billie Eilish        95997\n",
      " Taco Hemingway       90794\n",
      " PRO8L3M              85905\n",
      " Ava Max              81964\n",
      " Żabson               81954\n",
      "Name: position, dtype: int64\n"
     ]
    }
   ],
   "source": [
    "# Najpopularniejsi artyści w Polsce w 2020 roku\n",
    "spotify_2020_pl_art = spotify.loc[(spotify['country'] == 'Poland') & (spotify['year'] == 2020)]\n",
    "top_artists_2020_pl = spotify_2020_pl_art.groupby('artist')['position'].sum().sort_values(ascending=False).head(10)\n",
    "print(\"Top 10 najpopularniejszych artystów w Polsce w 2020 roku:\")\n",
    "print(top_artists_2020_pl)"
   ]
  },
  {
   "cell_type": "code",
   "execution_count": 57,
   "metadata": {},
   "outputs": [
    {
     "name": "stdout",
     "output_type": "stream",
     "text": [
      "Top 10 najpopularniejszych artystów w Polsce:\n",
      "artist\n",
      " Taco Hemingway                              806582\n",
      " Dawid Podsiadło                             509056\n",
      " Ed Sheeran                                  479494\n",
      " Imagine Dragons                             352317\n",
      " Billie Eilish                               326107\n",
      " White 2115                                  303236\n",
      " TACONAFIDE, Quebonafide, Taco Hemingway     299911\n",
      " PRO8L3M                                     277790\n",
      " chillwagon                                  240159\n",
      " XXXTENTACION                                237818\n",
      "Name: position, dtype: int64\n"
     ]
    }
   ],
   "source": [
    "# Najpopularniejsi artyści w Polsce w latach 2017 - 2020\n",
    "top_artists_pl = spotify.loc[(spotify['country'] == 'Poland')].groupby('artist')['position'].sum().sort_values(ascending=False).head(10)\n",
    "print(\"Top 10 najpopularniejszych artystów w Polsce:\")\n",
    "print(top_artists_pl)"
   ]
  },
  {
   "cell_type": "markdown",
   "metadata": {},
   "source": [
    "#### <a id='toc1_3_3_2_'></a>[Utwory](#toc0_)"
   ]
  },
  {
   "cell_type": "code",
   "execution_count": 58,
   "metadata": {},
   "outputs": [
    {
     "name": "stdout",
     "output_type": "stream",
     "text": [
      "Top 10 najpopularniejszych utworów w Polsce w 2017 roku:\n",
      "track\n",
      " Gdy,ś Kiedyś , Paluch                     51205\n",
      " Szaman , Paluch                           49710\n",
      " Do I Wanna Know? , Arctic Monkeys         48896\n",
      " 6 Zer , Taco Hemingway                    48592\n",
      " Seven Nation Army , The White Stripes     48249\n",
      " Riptide , Vance Joy                       46945\n",
      " Następna stacja , Taco Hemingway          45349\n",
      " Demons , Imagine Dragons                  45320\n",
      " W Dobrą Stronę , Dawid Podsiadło          42640\n",
      " Marmur , Taco Hemingway                   42396\n",
      "Name: position, dtype: int64\n"
     ]
    }
   ],
   "source": [
    "# Najpopularniejsze utwory w Polsce w 2017 roku:\n",
    "spotify_2017_pl = spotify.loc[(spotify['country'] == 'Poland') & (spotify['year'] == 2017)]\n",
    "top_songs_2017_pl = spotify_2017_pl.groupby('track')['position'].sum().sort_values(ascending=False).head(10)\n",
    "print(\"Top 10 najpopularniejszych utworów w Polsce w 2017 roku:\")\n",
    "print(top_songs_2017_pl)"
   ]
  },
  {
   "cell_type": "code",
   "execution_count": 59,
   "metadata": {},
   "outputs": [
    {
     "name": "stdout",
     "output_type": "stream",
     "text": [
      "Top 10 najpopularniejszych utworów w Polsce w 2018 roku:\n",
      "track\n",
      " Should I Stay or Should I Go - Remastered , The Clash     39713\n",
      " W Dobrą Stronę , Dawid Podsiadło                          39405\n",
      " Pastempomat , Dawid Podsiadło                             37819\n",
      " XO Tour Llif3 , Lil Uzi Vert                              35738\n",
      " Mówiłaś , Young Igi                                       35661\n",
      " Thunder , Imagine Dragons                                 35503\n",
      " Papierosy , Reto                                          35033\n",
      " Biały i młody , Bedoes, Kubi Producent                    33265\n",
      " Seven Nation Army , The White Stripes                     32571\n",
      " MINIMINI , 2K, Szpaku                                     32254\n",
      "Name: position, dtype: int64\n"
     ]
    }
   ],
   "source": [
    "# Najpopularniejsze utwory w Polsce w 2018 roku:\n",
    "spotify_2018_pl = spotify.loc[(spotify['country'] == 'Poland') & (spotify['year'] == 2018)]\n",
    "top_songs_2018_pl = spotify_2018_pl.groupby('track')['position'].sum().sort_values(ascending=False).head(10)\n",
    "print(\"Top 10 najpopularniejszych utworów w Polsce w 2018 roku:\")\n",
    "print(top_songs_2018_pl)"
   ]
  },
  {
   "cell_type": "code",
   "execution_count": 60,
   "metadata": {},
   "outputs": [
    {
     "name": "stdout",
     "output_type": "stream",
     "text": [
      "Top 10 najpopularniejszych utworów w Polsce w 2019 roku:\n",
      "track\n",
      " Noc , White 2115                            47142\n",
      " Płuca zlepione topami , Guzior              46794\n",
      " Układanka , Jan-Rapowanie, Nocny, Holak     45003\n",
      " WIFI , Guzior                               44470\n",
      " Dżins , Dawid Podsiadło                     41921\n",
      " Hinata , Szpaku                             40798\n",
      " Half Dead , Quebonafide, Reto               39985\n",
      " UFO , Szpaku                                39419\n",
      " MINIMINI , 2K, Szpaku                       38555\n",
      " Nie / nie , Otsochodzi                      37580\n",
      "Name: position, dtype: int64\n"
     ]
    }
   ],
   "source": [
    "# Najpopularniejsze utwory w Polsce w 2019 roku:\n",
    "spotify_2019_pl = spotify.loc[(spotify['country'] == 'Poland') & (spotify['year'] == 2019)]\n",
    "top_songs_2019_pl = spotify_2019_pl.groupby('track')['position'].sum().sort_values(ascending=False).head(10)\n",
    "print(\"Top 10 najpopularniejszych utworów w Polsce w 2019 roku:\")\n",
    "print(top_songs_2019_pl)"
   ]
  },
  {
   "cell_type": "code",
   "execution_count": 61,
   "metadata": {},
   "outputs": [
    {
     "name": "stdout",
     "output_type": "stream",
     "text": [
      "Top 10 najpopularniejszych utworów w Polsce w 2020 roku:\n",
      "track\n",
      " Noc , White 2115                    47562\n",
      " Grill u Gawrona , Białas, Lanek     47157\n",
      " Czempion , Kizo, Malik Montana      45387\n",
      " UA , Reto                           40079\n",
      " Wampir , Sarius                     39793\n",
      " Casablanca  , BLACHA                39595\n",
      " Hinata , Szpaku                     39329\n",
      " koszmar minionego lata , Kartky     38945\n",
      " Płuca zlepione topami , Guzior      38563\n",
      " Before You Go , Lewis Capaldi       38479\n",
      "Name: position, dtype: int64\n"
     ]
    }
   ],
   "source": [
    "# Najpopularniejsze utwory w Polsce w 2020 roku:\n",
    "spotify_2020_pl = spotify.loc[(spotify['country'] == 'Poland') & (spotify['year'] == 2020)]\n",
    "top_songs_2020_pl = spotify_2020_pl.groupby('track')['position'].sum().sort_values(ascending=False).head(10)\n",
    "print(\"Top 10 najpopularniejszych utworów w Polsce w 2020 roku:\")\n",
    "print(top_songs_2020_pl)"
   ]
  },
  {
   "cell_type": "code",
   "execution_count": 62,
   "metadata": {},
   "outputs": [
    {
     "name": "stdout",
     "output_type": "stream",
     "text": [
      "Top 10 najpopularniejszych utworów w Polsce:\n",
      "track\n",
      " Noc , White 2115                                         108366\n",
      " Płuca zlepione topami , Guzior                           100811\n",
      " W Dobrą Stronę , Dawid Podsiadło                          97251\n",
      " 05:05 , Bedoes, Kubi Producent                            91287\n",
      " Half Dead , Quebonafide, Reto                             87675\n",
      " UA , Reto                                                 83559\n",
      " lovely  , Billie Eilish                                   82044\n",
      " Hinata , Szpaku                                           81795\n",
      " Tamagotchi , TACONAFIDE, Quebonafide, Taco Hemingway      81644\n",
      " Seven Nation Army , The White Stripes                     80820\n",
      "Name: position, dtype: int64\n"
     ]
    }
   ],
   "source": [
    "#  Najpopularniejsze utwory w Polsce w latach 2017 - 2020\n",
    "top_songs_2020_pl = spotify.loc[(spotify['country'] == 'Poland')].groupby('track')['position'].sum().sort_values(ascending=False).head(10)\n",
    "print(\"Top 10 najpopularniejszych utworów w Polsce:\")\n",
    "print(top_songs_2020_pl)"
   ]
  }
 ],
 "metadata": {
  "kernelspec": {
   "display_name": "envpy310",
   "language": "python",
   "name": "python3"
  },
  "language_info": {
   "codemirror_mode": {
    "name": "ipython",
    "version": 3
   },
   "file_extension": ".py",
   "mimetype": "text/x-python",
   "name": "python",
   "nbconvert_exporter": "python",
   "pygments_lexer": "ipython3",
   "version": "3.10.9"
  },
  "orig_nbformat": 4
 },
 "nbformat": 4,
 "nbformat_minor": 2
}
